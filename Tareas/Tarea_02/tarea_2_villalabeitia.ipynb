{
  "nbformat": 4,
  "nbformat_minor": 0,
  "metadata": {
    "colab": {
      "provenance": [],
      "authorship_tag": "ABX9TyMcJ14xtcOQ0u2Uw9Ri8IgQ",
      "include_colab_link": true
    },
    "kernelspec": {
      "name": "python3",
      "display_name": "Python 3"
    },
    "language_info": {
      "name": "python"
    }
  },
  "cells": [
    {
      "cell_type": "markdown",
      "metadata": {
        "id": "view-in-github",
        "colab_type": "text"
      },
      "source": [
        "<a href=\"https://colab.research.google.com/github/lukavmiller13/starter/blob/main/tarea_2_villalabeitia.ipynb\" target=\"_parent\"><img src=\"https://colab.research.google.com/assets/colab-badge.svg\" alt=\"Open In Colab\"/></a>"
      ]
    },
    {
      "cell_type": "markdown",
      "source": [
        "1. Hacer un programa que imprima los números del 1 al 100, en python sería:"
      ],
      "metadata": {
        "id": "6QWAgszU9dkr"
      }
    },
    {
      "cell_type": "code",
      "source": [
        "print(range(100))\n",
        "\n",
        "for x in range(100):\n",
        "  print(x+1)"
      ],
      "metadata": {
        "colab": {
          "base_uri": "https://localhost:8080/"
        },
        "id": "OU7iBRMg9jxt",
        "outputId": "19e6d4b2-ab48-4d16-957c-4e075e039067"
      },
      "execution_count": null,
      "outputs": [
        {
          "output_type": "stream",
          "name": "stdout",
          "text": [
            "range(0, 100)\n",
            "1\n",
            "2\n",
            "3\n",
            "4\n",
            "5\n",
            "6\n",
            "7\n",
            "8\n",
            "9\n",
            "10\n",
            "11\n",
            "12\n",
            "13\n",
            "14\n",
            "15\n",
            "16\n",
            "17\n",
            "18\n",
            "19\n",
            "20\n",
            "21\n",
            "22\n",
            "23\n",
            "24\n",
            "25\n",
            "26\n",
            "27\n",
            "28\n",
            "29\n",
            "30\n",
            "31\n",
            "32\n",
            "33\n",
            "34\n",
            "35\n",
            "36\n",
            "37\n",
            "38\n",
            "39\n",
            "40\n",
            "41\n",
            "42\n",
            "43\n",
            "44\n",
            "45\n",
            "46\n",
            "47\n",
            "48\n",
            "49\n",
            "50\n",
            "51\n",
            "52\n",
            "53\n",
            "54\n",
            "55\n",
            "56\n",
            "57\n",
            "58\n",
            "59\n",
            "60\n",
            "61\n",
            "62\n",
            "63\n",
            "64\n",
            "65\n",
            "66\n",
            "67\n",
            "68\n",
            "69\n",
            "70\n",
            "71\n",
            "72\n",
            "73\n",
            "74\n",
            "75\n",
            "76\n",
            "77\n",
            "78\n",
            "79\n",
            "80\n",
            "81\n",
            "82\n",
            "83\n",
            "84\n",
            "85\n",
            "86\n",
            "87\n",
            "88\n",
            "89\n",
            "90\n",
            "91\n",
            "92\n",
            "93\n",
            "94\n",
            "95\n",
            "96\n",
            "97\n",
            "98\n",
            "99\n",
            "100\n"
          ]
        }
      ]
    },
    {
      "cell_type": "markdown",
      "source": [
        "Aquí se realiza un rango entre 1 y 100, por eso se imprime un range de 100, y hay que poner el x+1 para que cuente desde el 1 y no desde 0"
      ],
      "metadata": {
        "id": "TGZP8YzfBdNu"
      }
    },
    {
      "cell_type": "markdown",
      "source": [
        "2. Hacer un programa que imprima los números del 1 al 100 que sean divisibles entre 3 (con resto 0)\n"
      ],
      "metadata": {
        "id": "tu7eMzkB9t9-"
      }
    },
    {
      "cell_type": "code",
      "source": [
        "for x in range(100):\n",
        "\n",
        "  if (x+1) % 3 == 0:\n",
        "    print(x+1)"
      ],
      "metadata": {
        "colab": {
          "base_uri": "https://localhost:8080/"
        },
        "id": "cS-pi3jL9umL",
        "outputId": "9477af41-b9b6-4430-cf64-0e3138ee5917"
      },
      "execution_count": null,
      "outputs": [
        {
          "output_type": "stream",
          "name": "stdout",
          "text": [
            "3\n",
            "6\n",
            "9\n",
            "12\n",
            "15\n",
            "18\n",
            "21\n",
            "24\n",
            "27\n",
            "30\n",
            "33\n",
            "36\n",
            "39\n",
            "42\n",
            "45\n",
            "48\n",
            "51\n",
            "54\n",
            "57\n",
            "60\n",
            "63\n",
            "66\n",
            "69\n",
            "72\n",
            "75\n",
            "78\n",
            "81\n",
            "84\n",
            "87\n",
            "90\n",
            "93\n",
            "96\n",
            "99\n"
          ]
        }
      ]
    },
    {
      "cell_type": "markdown",
      "source": [
        "Aquí también se pide un rango también pero solo de los números que sean divisibles por 3 con un resto cero, por eso hay que poner el rango hasta 100, especificar que es x+1 para que parta en 1 y que al dividirlo por 3 tenga resto 0."
      ],
      "metadata": {
        "id": "AmUyD5V_B-Cu"
      }
    },
    {
      "cell_type": "markdown",
      "source": [
        "3. Realiza el algoritmo para un sumador de dos números. Si el resultado es menor a 100 se mostrará el mensaje \"menor 100\", si el resultado es mayor a 100, pero menor a 150 mostrará el mensaje \"mayor a 100\", pero si es mayor a 150 mostrará el mensaje \"mayor a 150\""
      ],
      "metadata": {
        "id": "0rY4AipV954E"
      }
    },
    {
      "cell_type": "code",
      "source": [
        "numero_1 = int(input(\"Ingresa un número\"))\n",
        "numero_2 = 5\n",
        "suma = numero_1 + numero_2\n",
        "resultado = \"\"\n",
        "\n",
        "if(suma<100):\n",
        "  resultado = \"menor a 100\"\n",
        "elif(suma>=100 and suma<150):\n",
        "  resultado = \"mayor a 100\"\n",
        "elif(suma>=150):\n",
        "  resultado = \"mayor a 150\"\n",
        "\n",
        "print(resultado)"
      ],
      "metadata": {
        "colab": {
          "base_uri": "https://localhost:8080/"
        },
        "id": "843zxESJ96hT",
        "outputId": "1e4b58ff-42a1-404a-e8dd-e6a954d3bfcb"
      },
      "execution_count": null,
      "outputs": [
        {
          "output_type": "stream",
          "name": "stdout",
          "text": [
            "Ingresa un número20\n",
            "menor a 100\n"
          ]
        }
      ]
    },
    {
      "cell_type": "markdown",
      "source": [
        "En este caso se pide un algoritmo que sume por lo que hay que poner número 1 y número 2, en donde 1 hay que ingresarlo, luego hay que explicar que la suma es de los dos números. Y que resultado sea la afirmación que pedimos, por eso luego hay que explicar que si la suma es menor que 100 tiene que decir que el resultado es menor a 100, y así sucesivamente con los rangos. Y finalmente imprimir el resultado."
      ],
      "metadata": {
        "id": "ion4JjEQCRUj"
      }
    },
    {
      "cell_type": "markdown",
      "source": [
        "4. Generar un programa que combine variables, tipos de datos y una condicional en Python (hacer una función que evalúe si el usuario es mayor de edad y si le gusta la programación, que envíe diferentes textos según la respuesta del usuario)"
      ],
      "metadata": {
        "id": "u0eol7mh9kPX"
      }
    },
    {
      "cell_type": "code",
      "source": [
        "numero_1 = int(input(\"Ingresa tu edad\"))\n",
        "respuesta_1 = (input(\"¿Te gusta la programación?\"))\n",
        "edad = numero_1\n",
        "respuesta = respuesta_1\n",
        "resultado = \"\"\n",
        "\n",
        "if(edad>=18 and respuesta == \"si\"):\n",
        "  resultado = \"eres mayor de edad y te gusta programar\"\n",
        "elif(edad<18 and respuesta == \"si\"):\n",
        "  resultado = \"eres menor de edad y te gusta programar\"\n",
        "elif(edad>=18 and respuesta == \"no\"):\n",
        "  resultado = \"eres mayor de edad y no te gusta programar\"\n",
        "elif(edad<18 and respuesta == \"no\"):\n",
        "  resultado = \"eres menor de edad y no te gusta programar\"\n",
        "\n",
        "print(resultado)"
      ],
      "metadata": {
        "colab": {
          "base_uri": "https://localhost:8080/"
        },
        "id": "XfkM8ufY-Dof",
        "outputId": "e7af0d45-474c-4689-aa03-6cc71857925a"
      },
      "execution_count": null,
      "outputs": [
        {
          "output_type": "stream",
          "name": "stdout",
          "text": [
            "Ingresa tu edad80\n",
            "¿Te gusta la programación?si\n",
            "eres mayor de edad y te gusta programar\n"
          ]
        }
      ]
    },
    {
      "cell_type": "markdown",
      "source": [
        "En este caso se pide un programa que determine si el usuario es mayor o menor de edad y si le gusta la programación. Por eso hay que poner que el número 1 (ingresado) es la edad, y la respuesta 1 es si le gusta la programación. Luego poner todas las condiciones, mayor o menor que 18 y si le gusta o no la programación, combinando las opciones. Y finalmente imprimir el resultado."
      ],
      "metadata": {
        "id": "Q9xWQSG8CuAJ"
      }
    }
  ]
}